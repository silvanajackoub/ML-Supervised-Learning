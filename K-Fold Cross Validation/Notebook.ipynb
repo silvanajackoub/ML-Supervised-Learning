{
  "cells": [
    {
      "cell_type": "code",
      "execution_count": 1,
      "metadata": {
        "id": "Jgz87dCgld-5"
      },
      "outputs": [],
      "source": [
        "from sklearn.datasets import fetch_openml\n",
        "import pandas as pd\n",
        "import numpy as np\n",
        "import random\n",
        "import matplotlib.pyplot as plt\n"
      ]
    },
    {
      "cell_type": "markdown",
      "source": [
        "## Load MINST dataset"
      ],
      "metadata": {
        "id": "af4uUxzK-46R"
      }
    },
    {
      "cell_type": "code",
      "execution_count": 2,
      "metadata": {
        "colab": {
          "base_uri": "https://localhost:8080/"
        },
        "id": "E8z1tKillvs4",
        "outputId": "bf2e5903-a37a-4626-f46e-79718b7f7844"
      },
      "outputs": [
        {
          "output_type": "stream",
          "name": "stderr",
          "text": [
            "/usr/local/lib/python3.10/dist-packages/sklearn/datasets/_openml.py:968: FutureWarning: The default value of `parser` will change from `'liac-arff'` to `'auto'` in 1.4. You can set `parser='auto'` to silence this warning. Therefore, an `ImportError` will be raised from 1.4 if the dataset is dense and pandas is not installed. Note that the pandas parser may return different data types. See the Notes Section in fetch_openml's API doc for details.\n",
            "  warn(\n"
          ]
        },
        {
          "output_type": "stream",
          "name": "stdout",
          "text": [
            "X shape: (70000, 784)\n",
            "y shape: (70000,)\n"
          ]
        }
      ],
      "source": [
        "# Load the MNIST dataset using fetch_openml\n",
        "mnist = fetch_openml('mnist_784', version=1)\n",
        "\n",
        "# Extract the features (pixel values) and labels from the dataset\n",
        "X = mnist.data.values.astype('float32')\n",
        "y = mnist.target.values.astype('int64')\n",
        "\n",
        "# Print the shape of the data arrays\n",
        "print(f\"X shape: {X.shape}\")\n",
        "print(f\"y shape: {y.shape}\")"
      ]
    },
    {
      "cell_type": "code",
      "execution_count": 3,
      "metadata": {
        "id": "LtmsOBebnthJ"
      },
      "outputs": [],
      "source": [
        "# Subset data to use only class 0 and class 1\n",
        "X = X[(y == 0) | (y == 1)]\n",
        "y = y[(y == 0) | (y == 1)]"
      ]
    },
    {
      "cell_type": "markdown",
      "source": [
        "## Standarize Dataset:"
      ],
      "metadata": {
        "id": "t-01Drcd_ASE"
      }
    },
    {
      "cell_type": "code",
      "execution_count": 4,
      "metadata": {
        "id": "i4opo_ggl0zP"
      },
      "outputs": [],
      "source": [
        "# Define a small epsilon value to add to the standard deviation to avoid division by zero\n",
        "eps = 1e-8\n",
        "\n",
        "# Calculate the standard deviation of each feature and replace any zero values with eps\n",
        "std_dev = np.std(X, axis=0)\n",
        "std_dev[std_dev == 0] = eps\n",
        "\n",
        "# Normalize the data by subtracting the mean and dividing by the standard deviation\n",
        "X = (X - np.mean(X, axis=0)) / std_dev"
      ]
    },
    {
      "cell_type": "markdown",
      "source": [
        "## Implement Logistic Regression"
      ],
      "metadata": {
        "id": "5q0ao81M_GrW"
      }
    },
    {
      "cell_type": "code",
      "execution_count": 6,
      "metadata": {
        "id": "HEjn__Ekl768"
      },
      "outputs": [],
      "source": [
        "class LogisticRegression:\n",
        "    def __init__(self, lr=0.01, n_iters=1000):\n",
        "        self.lr = lr\n",
        "        self.n_iters = n_iters\n",
        "        self.weights = None\n",
        "        self.bias = None\n",
        "    \n",
        "    def fit(self, X, y):\n",
        "        n_samples, n_features = X.shape\n",
        "        \n",
        "        # Initialize the weights and bias to zeros\n",
        "        self.weights = np.zeros(n_features)\n",
        "        self.bias = 0\n",
        "        \n",
        "        # Gradient descent\n",
        "        for _ in range(self.n_iters):\n",
        "            # Calculate the linear model using dot product of weights and features, and add the bias\n",
        "            linear_model = np.dot(X, self.weights) + self.bias\n",
        "            \n",
        "            # Apply sigmoid function to get the predicted probabilities\n",
        "            y_predicted = self._sigmoid(linear_model)\n",
        "            \n",
        "            # Calculate the gradient of the cost function using the predicted probabilities and true labels\n",
        "            dw = (1/n_samples) * np.dot(X.T, (y_predicted - y))\n",
        "            db = (1/n_samples) * np.sum(y_predicted - y)\n",
        "            \n",
        "            # Update the weights and bias using the gradient and learning rate\n",
        "            self.weights -= self.lr * dw\n",
        "            self.bias -= self.lr * db\n",
        "    \n",
        "    def predict(self, X):\n",
        "        linear_model = np.dot(X, self.weights) + self.bias\n",
        "        y_predicted = self._sigmoid(linear_model)\n",
        "        return np.where(y_predicted > 0.5, 1, 0)\n",
        "    \n",
        "    def _sigmoid(self, x):\n",
        "        return 1 / (1 + np.exp(-x))\n",
        "\n",
        "    def binary_cross_entropy_loss(self,y_true, y_pred):\n",
        "\n",
        "      # Ensure inputs are numpy arrays\n",
        "      y_true = np.array(y_true)\n",
        "      y_pred = np.array(y_pred)\n",
        "\n",
        "      # Clip predictions to avoid NaNs in log calculations\n",
        "      y_pred = np.clip(y_pred, 1e-15, 1 - 1e-15)\n",
        "\n",
        "      # Calculate loss\n",
        "      loss = -(y_true * np.log(y_pred) + (1 - y_true) * np.log(1 - y_pred)).mean()\n",
        "\n",
        "      return loss\n"
      ]
    },
    {
      "cell_type": "markdown",
      "source": [
        "## K-Fold cross validation implementaion for different learning rate"
      ],
      "metadata": {
        "id": "YJ6AvbHF_LbA"
      }
    },
    {
      "cell_type": "code",
      "execution_count": 14,
      "metadata": {
        "colab": {
          "base_uri": "https://localhost:8080/"
        },
        "id": "QcIvvkGmuVGq",
        "outputId": "22f4821c-5331-4727-ffbb-fb5a42c52a1b"
      },
      "outputs": [
        {
          "output_type": "stream",
          "name": "stdout",
          "text": [
            "Training with learning rate = 0.001\n",
            "Fold 1: 0.9959404600811907\n",
            "Binary cross entropy:  0.14021424652003825\n",
            "Fold 2: 0.9993234100135318\n",
            "Binary cross entropy:  0.02336913125327629\n",
            "Fold 3: 0.9979702300405954\n",
            "Binary cross entropy:  0.07010739375982686\n",
            "Fold 4: 0.9979702300405954\n",
            "Binary cross entropy:  0.07010739375982686\n",
            "Fold 5: 0.9959404600811907\n",
            "Binary cross entropy:  0.14021424652003825\n",
            "Fold 6: 0.9972936400541272\n",
            "Binary cross entropy:  0.09347652501310214\n",
            "Fold 7: 0.9959404600811907\n",
            "Binary cross entropy:  0.14021424652003825\n",
            "Fold 8: 0.9959404600811907\n",
            "Binary cross entropy:  0.14021208252158035\n",
            "Fold 9: 0.996617050067659\n",
            "Binary cross entropy:  0.11684511526676296\n",
            "Fold 10: 0.993234100135318\n",
            "Binary cross entropy:  0.23369023053352492\n",
            "Average Accuracy:  0.996617050067659\n",
            "Average cost:  0.11684506116680152\n",
            "\n",
            "Training with learning rate = 0.01\n",
            "Fold 1: 0.9979702300405954\n",
            "Binary cross entropy:  0.07010685276021239\n",
            "Fold 2: 1.0\n",
            "Binary cross entropy:  9.992007221626413e-16\n",
            "Fold 3: 0.9993234100135318\n",
            "Binary cross entropy:  0.02336913125327629\n",
            "Fold 4: 0.9979702300405954\n",
            "Binary cross entropy:  0.07010685276021239\n",
            "Fold 5: 0.9979702300405954\n",
            "Binary cross entropy:  0.0701068527602124\n",
            "Fold 6: 0.9993234100135318\n",
            "Binary cross entropy:  0.02336913125327629\n",
            "Fold 7: 0.9979702300405954\n",
            "Binary cross entropy:  0.07010685276021239\n",
            "Fold 8: 0.9986468200270636\n",
            "Binary cross entropy:  0.04673718050732262\n",
            "Fold 9: 0.9986468200270636\n",
            "Binary cross entropy:  0.0467377215069371\n",
            "Fold 10: 0.9952638700947226\n",
            "Binary cross entropy:  0.16358283677369906\n",
            "Average Accuracy:  0.9983085250338295\n",
            "Average cost:  0.0584223412335362\n",
            "\n",
            "Training with learning rate = 0.1\n",
            "Fold 1: 0.9979702300405954\n",
            "Binary cross entropy:  0.07010685276021239\n",
            "Fold 2: 1.0\n",
            "Binary cross entropy:  9.992007221626413e-16\n",
            "Fold 3: 0.9993234100135318\n",
            "Binary cross entropy:  0.02336913125327629\n",
            "Fold 4: 0.9993234100135318\n",
            "Binary cross entropy:  0.023368590253661815\n",
            "Fold 5: 0.9979702300405954\n",
            "Binary cross entropy:  0.07010631176059791\n",
            "Fold 6: 1.0\n",
            "Binary cross entropy:  9.992007221626413e-16\n",
            "Fold 7: 0.9993234100135318\n",
            "Binary cross entropy:  0.02336913125327629\n",
            "Fold 8: 0.9979702300405954\n",
            "Binary cross entropy:  0.07010577076098343\n",
            "Fold 9: 0.9993234100135318\n",
            "Binary cross entropy:  0.023368590253661815\n",
            "Fold 10: 0.9979702300405954\n",
            "Binary cross entropy:  0.07010631176059791\n",
            "Average Accuracy:  0.9989174560216508\n",
            "Average cost:  0.03739006900562698\n",
            "\n",
            "Training with learning rate = 1\n",
            "Fold 1: 0.9979702300405954\n",
            "Binary cross entropy:  0.07010685276021239\n",
            "Fold 2: 1.0\n",
            "Binary cross entropy:  9.992007221626413e-16\n",
            "Fold 3: 0.9993234100135318\n",
            "Binary cross entropy:  0.02336913125327629\n",
            "Fold 4: 0.9993234100135318\n",
            "Binary cross entropy:  0.023368590253661815\n",
            "Fold 5: 0.996617050067659\n",
            "Binary cross entropy:  0.11684349226791954\n",
            "Fold 6: 1.0\n",
            "Binary cross entropy:  9.992007221626413e-16\n",
            "Fold 7: 0.9993234100135318\n",
            "Binary cross entropy:  0.02336913125327629\n",
            "Fold 8: 0.9979702300405954\n",
            "Binary cross entropy:  0.07010577076098343\n",
            "Fold 9: 0.9993234100135318\n",
            "Binary cross entropy:  0.023368590253661815\n",
            "Fold 10: 0.9979702300405954\n",
            "Binary cross entropy:  0.07010631176059791\n",
            "Average Accuracy:  0.9987821380243572\n",
            "Average cost:  0.042063787056359145\n",
            "\n"
          ]
        }
      ],
      "source": [
        "# Define the learning rates to try\n",
        "learning_rates = [0.001, 0.01, 0.1, 1]\n",
        "\n",
        "# Define number of folds\n",
        "k = 10\n",
        "\n",
        "# Shuffle indices\n",
        "np.random.seed(42)\n",
        "indices = np.random.permutation(len(X))\n",
        "\n",
        "# Split indices into k folds\n",
        "fold_size = len(X) // k\n",
        "folds = [indices[i*fold_size:(i+1)*fold_size] for i in range(k)]\n",
        "\n",
        "# Initialize lists to store the validation accuracies for each learning rate\n",
        "val_accs_by_lr = []\n",
        "\n",
        "\n",
        "for lr in learning_rates:\n",
        "  # Initialize lists to store the validation accuracies and loss\n",
        "  val_accs = []\n",
        "  cost_loss = []\n",
        "\n",
        "  print(f\"Training with learning rate = {lr}\")\n",
        "\n",
        "  # Perform cross-validation\n",
        "  for i in range(k):\n",
        "      # Split data into training and validation sets\n",
        "\n",
        "      # the outer loop is iterating over the k folds, and for each iteration, the validation set is identified by folds[i]\n",
        "      val_indices = folds[i]\n",
        "\n",
        "      # The training set is constructed by concatenating the indices of all the folds except the i-th fold\n",
        "      train_indices = np.concatenate([folds[j] for j in range(k) if j != i])\n",
        "      \n",
        "      X_train, y_train = X[train_indices], y[train_indices]\n",
        "      X_val, y_val = X[val_indices], y[val_indices]\n",
        "        \n",
        "      # Initialize the model with the current learning rate\n",
        "      model = LogisticRegression(lr=lr)\n",
        "    \n",
        "      \n",
        "      # Train the model on the training data\n",
        "      model.fit(X_train, y_train)\n",
        "      \n",
        "      # Predict the labels of the validation data\n",
        "      y_pred = model.predict(X_val)\n",
        "\n",
        "      \n",
        "      # Calculate the validation accuracy and store it in the list\n",
        "      acc = np.sum(y_pred == y_val)/len(y_val)\n",
        "      val_accs.append(acc)\n",
        "\n",
        "      print(f\"Fold {i+1}: {acc}\")\n",
        "\n",
        "      # Test Binary cross entroby\n",
        "\n",
        "      loss = model.binary_cross_entropy_loss(y_val,y_pred)\n",
        "      cost_loss.append(loss)\n",
        "      print(\"Binary cross entropy: \", loss)\n",
        "\n",
        "  # Calculate the average validation accuracy for the current learning rate and store it in the list\n",
        "  avg_val_acc = np.mean(val_accs)\n",
        "  val_accs_by_lr.append(avg_val_acc)  \n",
        "  print(\"Average Accuracy: \", np.mean(val_accs))\n",
        "  print(\"Average cost: \", np.mean(cost_loss))\n",
        "  print()"
      ]
    },
    {
      "cell_type": "markdown",
      "source": [
        "## Plot the validation accuracies vs. the learning rates"
      ],
      "metadata": {
        "id": "qSTM7clH_erb"
      }
    },
    {
      "cell_type": "code",
      "execution_count": 15,
      "metadata": {
        "colab": {
          "base_uri": "https://localhost:8080/",
          "height": 472
        },
        "id": "p-7GUDOc-ElO",
        "outputId": "128b15ae-1e0b-4444-f54f-60c36711a7be"
      },
      "outputs": [
        {
          "output_type": "display_data",
          "data": {
            "text/plain": [
              "<Figure size 640x480 with 1 Axes>"
            ],
            "image/png": "[encoded data removed]"
          },
          "metadata": {}
        }
      ],
      "source": [
        "plt.plot(learning_rates, val_accs_by_lr, 'o-')\n",
        "plt.xlabel('Learning rate')\n",
        "plt.ylabel('Validation accuracy')\n",
        "plt.title('Validation accuracy vs. learning rate')\n",
        "plt.show()"
      ]
    }
  ],
  "metadata": {
    "colab": {
      "provenance": []
    },
    "kernelspec": {
      "display_name": "Python 3",
      "name": "python3"
    },
    "language_info": {
      "name": "python"
    }
  },
  "nbformat": 4,
  "nbformat_minor": 0
}