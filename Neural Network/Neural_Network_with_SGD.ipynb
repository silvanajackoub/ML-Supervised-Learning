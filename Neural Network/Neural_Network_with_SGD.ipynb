{
  "cells": [
    {
      "cell_type": "code",
      "execution_count": 25,
      "metadata": {
        "id": "Jgz87dCgld-5"
      },
      "outputs": [],
      "source": [
        "from sklearn.datasets import fetch_openml\n",
        "import pandas as pd\n",
        "import numpy as np\n",
        "import random\n",
        "import matplotlib.pyplot as plt\n"
      ]
    },
    {
      "cell_type": "markdown",
      "metadata": {
        "id": "ASRj_CF2iIdg"
      },
      "source": [
        "## Load MNIST Dataset:\n"
      ]
    },
    {
      "cell_type": "code",
      "execution_count": 26,
      "metadata": {
        "colab": {
          "base_uri": "https://localhost:8080/"
        },
        "id": "E8z1tKillvs4",
        "outputId": "1bf381fb-dfe0-4e85-adb7-d839d7abee43"
      },
      "outputs": [
        {
          "output_type": "stream",
          "name": "stderr",
          "text": [
            "/usr/local/lib/python3.10/dist-packages/sklearn/datasets/_openml.py:968: FutureWarning: The default value of `parser` will change from `'liac-arff'` to `'auto'` in 1.4. You can set `parser='auto'` to silence this warning. Therefore, an `ImportError` will be raised from 1.4 if the dataset is dense and pandas is not installed. Note that the pandas parser may return different data types. See the Notes Section in fetch_openml's API doc for details.\n",
            "  warn(\n"
          ]
        }
      ],
      "source": [
        "# Load the MNIST dataset using fetch_openml\n",
        "mnist = fetch_openml('mnist_784', version=1)\n",
        "\n",
        "# Extract the features (pixel values) and labels from the dataset\n",
        "X = mnist.data.values.astype('float32')\n",
        "y = mnist.target.values.astype('int64')"
      ]
    },
    {
      "cell_type": "markdown",
      "metadata": {
        "id": "fMEuwBmaiIdl"
      },
      "source": [
        "## Standardize Dataset:"
      ]
    },
    {
      "cell_type": "code",
      "execution_count": 27,
      "metadata": {
        "id": "i4opo_ggl0zP"
      },
      "outputs": [],
      "source": [
        "# Define a small epsilon value to add to the standard deviation to avoid division by zero\n",
        "eps = 1e-8\n",
        "\n",
        "# Calculate the standard deviation of each feature and replace any zero values with eps\n",
        "std_dev = np.std(X, axis=0)\n",
        "std_dev[std_dev == 0] = eps\n",
        "\n",
        "# Normalize the data by subtracting the mean and dividing by the standard deviation\n",
        "X = (X - np.mean(X, axis=0)) / std_dev"
      ]
    },
    {
      "cell_type": "markdown",
      "metadata": {
        "id": "CgdvGP8kiIdo"
      },
      "source": [
        "## Split Dataset:"
      ]
    },
    {
      "cell_type": "code",
      "execution_count": 28,
      "metadata": {
        "id": "M8AMoIAwjMRw"
      },
      "outputs": [],
      "source": [
        "from sklearn.model_selection import train_test_split\n",
        "\n",
        "X_train, X_test,y_train, y_test = train_test_split(X , y ,test_size=0.2, random_state=42)"
      ]
    },
    {
      "cell_type": "markdown",
      "metadata": {
        "id": "STb4HNFAiIdr"
      },
      "source": [
        "## Apply one-hot encoding"
      ]
    },
    {
      "cell_type": "code",
      "execution_count": 29,
      "metadata": {
        "id": "F9KBjc3RrYSD"
      },
      "outputs": [],
      "source": [
        "# Reshape the input data\n",
        "X_train = X_train.reshape(-1, 784)\n",
        "X_test = X_test.reshape(-1, 784)\n",
        "\n",
        "# Convert y_train and y_test to one-hot encoded vectors\n",
        "y_train = np.eye(10)[y_train]\n",
        "y_test = np.eye(10)[y_test]"
      ]
    },
    {
      "cell_type": "markdown",
      "metadata": {
        "id": "sS-GYGy5iIdu"
      },
      "source": [
        "## Implement Dynamic Neural Network from scratch"
      ]
    },
    {
      "cell_type": "code",
      "execution_count": 30,
      "metadata": {
        "id": "QUr2Emd6V2pC"
      },
      "outputs": [],
      "source": [
        "# Sigmoid activation function\n",
        "def sigmoid(x):\n",
        "    return 1 / (1 + np.exp(-np.clip(x, -500, 500)))\n",
        "\n",
        "# Derivative of sigmoid activation function\n",
        "def sigmoid_derivative(x):\n",
        "    return sigmoid(x) * (1 - sigmoid(x))\n",
        "\n",
        "# Mean Squared Error (MSE) loss function\n",
        "def mse(y_true, y_pred):\n",
        "    return np.mean((y_true - y_pred) ** 2)\n",
        "\n",
        "# Neural Network class\n",
        "class NeuralNetwork:\n",
        "    def __init__(self, x, y ,num_of_layers, size_of_layers):\n",
        "\n",
        "        num_features = x.shape[1]\n",
        "\n",
        "        size_of_layers.insert(0, num_features)\n",
        "        # Size (number of neurons) of each layer \n",
        "        self.size_of_layers = size_of_layers\n",
        "        # Number of layers in the network\n",
        "        \n",
        "        num_of_layers = len(size_of_layers) \n",
        "        self.num_of_layers = num_of_layers\n",
        "       \n",
        "        \n",
        "        # Initialize random weights between layers\n",
        "        self.weights = [np.random.randn(size_of_layers[i], size_of_layers[i+1]) for i in range(num_of_layers-1)]\n",
        "\n",
        "        # Initialize random biases for each layer\n",
        "        self.biases = [np.random.randn(size_of_layers[i+1]) for i in range(num_of_layers-1)]\n",
        "\n",
        "        # Store the outputs of each layer\n",
        "        self.outputs = [np.zeros(size) for size in size_of_layers]\n",
        "\n",
        "        # Store the errors in each layer (excluding the input layer)\n",
        "        self.errors = [np.zeros(size) for size in size_of_layers[1:]]\n",
        "        \n",
        "    \n",
        "    def forward(self, x):\n",
        "\n",
        "        # Set the input layer output as the input data\n",
        "        self.outputs[0] = x  \n",
        "        for i in range(self.num_of_layers-1):\n",
        "\n",
        "            # Compute the weighted sum of inputs and biases\n",
        "            z = np.dot(self.outputs[i], self.weights[i]) + self.biases[i]\n",
        "\n",
        "            # Apply the sigmoid activation function\n",
        "            self.outputs[i+1] = sigmoid(z)  \n",
        "\n",
        "            # Return the output of the last layer\n",
        "        return self.outputs[-1]  \n",
        "    \n",
        "    def backward(self, x, y_true, learning_rate):\n",
        "        \n",
        "        # Perform forward propagation to get the predicted output\n",
        "        y_pred = self.forward(x)  \n",
        "\n",
        "        # Compute the error between predicted and true output\n",
        "        error = y_true - y_pred \n",
        "\n",
        "        # Compute the delta (error * derivative of sigmoid) \n",
        "        delta = error * sigmoid_derivative(y_pred)\n",
        "\n",
        "        for i in range(self.num_of_layers-2, -1, -1):\n",
        "            # Store the error in the current layer\n",
        "            self.errors[i] = delta \n",
        "\n",
        "            # Compute the delta for the previous layer using the weights and derivative of sigmoid\n",
        "            delta = np.dot(delta, self.weights[i].T) * sigmoid_derivative(self.outputs[i])\n",
        "\n",
        "            # Compute the gradient of weights using outer product of outputs and errors\n",
        "            grad_w = np.dot(self.outputs[i].reshape(-1, 1), self.errors[i].reshape(1, -1))\n",
        "\n",
        "            # Gradient of biases is equal to the errors\n",
        "            grad_b = self.errors[i]  \n",
        "\n",
        "            # Update the weights using the learning rate and gradient\n",
        "            self.weights[i] += learning_rate * grad_w \n",
        "\n",
        "            # Update the biases using the learning rate and gradient\n",
        "\n",
        "            self.biases[i] += learning_rate * grad_b  \n",
        "    \n",
        "    def train(self, X_train, y_train, epochs, learning_rate):\n",
        "      # Convert one-hot encoded labels to class indices\n",
        "        y_train_indices = np.argmax(y_train, axis=1)\n",
        "        for epoch in range(epochs):\n",
        "            for x, y in zip(X_train, y_train):\n",
        "\n",
        "                # Perform backward propagation and update weights and biases for each training example\n",
        "                self.backward(x, y, learning_rate)\n",
        "                \n",
        "            if epoch % 10 == 0:\n",
        "\n",
        "                # Compute the mean squared error loss for the training set\n",
        "                train_loss = mse(y_train, self.forward(X_train))\n",
        "                print(f\"Epoch {epoch}: Train Loss = {train_loss:.4f}\")\n",
        "\n",
        "        train_accuracy = self.accuracy(X_train,  y_train_indices)\n",
        "        \n",
        "        # Compute the training accuracy\n",
        "        print(f\"Train Accuracy: {train_accuracy:.4f}\")\n",
        "    \n",
        "    def predict(self, X):\n",
        "        \n",
        "        # Perform forward propagation and round the predicted output to the nearest integer (0 or 1)\n",
        "        return self.forward(X)\n",
        "\n",
        "        \n",
        "     \n",
        "    def accuracy(self, X, y):\n",
        "        # Compute the predicted labels \n",
        "        predictions = self.predict(X)\n",
        "        predicted_labels = np.argmax(predictions, axis=1)\n",
        "        \n",
        "        # Compare predicted labels with true labels and calculate accuracy\n",
        "        accuracy = np.mean(predicted_labels == y)\n",
        "        return accuracy\n",
        "\n",
        "        \n",
        "def NN(x, y, num_of_layers, size_of_layers):\n",
        "  \n",
        "    nn = NeuralNetwork(x ,y ,num_of_layers=num_of_layers, size_of_layers=size_of_layers)\n",
        "    nn.train(x, y, epochs = 100, learning_rate = 0.1)\n",
        "    return nn\n"
      ]
    },
    {
      "cell_type": "markdown",
      "metadata": {
        "id": "g9HGd6h3iHmq"
      },
      "source": [
        "### **Build NN with only 2 layers => 1 hidden layer and 1 output layer**"
      ]
    },
    {
      "cell_type": "code",
      "execution_count": 31,
      "metadata": {
        "colab": {
          "base_uri": "https://localhost:8080/"
        },
        "id": "lzC0LRM8zq-W",
        "outputId": "fc2ce165-98c0-4de7-f032-30a2cb83222e"
      },
      "outputs": [
        {
          "output_type": "stream",
          "name": "stdout",
          "text": [
            "Epoch 0: Train Loss = 0.0206\n",
            "Epoch 10: Train Loss = 0.0182\n",
            "Epoch 20: Train Loss = 0.0178\n",
            "Epoch 30: Train Loss = 0.0176\n",
            "Epoch 40: Train Loss = 0.0178\n",
            "Epoch 50: Train Loss = 0.0182\n",
            "Epoch 60: Train Loss = 0.0183\n",
            "Epoch 70: Train Loss = 0.0183\n",
            "Epoch 80: Train Loss = 0.0184\n",
            "Epoch 90: Train Loss = 0.0185\n",
            "Train Accuracy: 0.8851\n"
          ]
        }
      ],
      "source": [
        "nn1 = NN(X_train, y_train, num_of_layers=2, size_of_layers=[20 , 10])\n"
      ]
    },
    {
      "cell_type": "code",
      "source": [
        "# Convert y_test to class indices\n",
        "y_test_indices = np.argmax(y_test, axis=1)"
      ],
      "metadata": {
        "id": "cBbGz_JcKlR9"
      },
      "execution_count": 32,
      "outputs": []
    },
    {
      "cell_type": "code",
      "source": [
        "# Calculate accuracy\n",
        "accuracy1_test = nn1.accuracy(X_test, y_test_indices)\n",
        "print(\"Test Accuracy1:\", accuracy1_test)"
      ],
      "metadata": {
        "id": "cVTSgEhiKnwc",
        "outputId": "4082dde0-4b01-4b87-ad38-ed6c8d51f274",
        "colab": {
          "base_uri": "https://localhost:8080/"
        }
      },
      "execution_count": 33,
      "outputs": [
        {
          "output_type": "stream",
          "name": "stdout",
          "text": [
            "Test Accuracy1: 0.8800714285714286\n"
          ]
        }
      ]
    },
    {
      "cell_type": "markdown",
      "metadata": {
        "id": "0qYpV-kMiYQg"
      },
      "source": [
        "### **Build NN with 3 layers=> 2 hidden layers**\n",
        "\n",
        "### **Where # of neurons in first layer < # of neurons in second layer and 1 output layer**"
      ]
    },
    {
      "cell_type": "code",
      "execution_count": 34,
      "metadata": {
        "colab": {
          "base_uri": "https://localhost:8080/"
        },
        "id": "qlIrzIPbbpak",
        "outputId": "41caf3ca-edf6-4391-8d8e-e9e3d92f08c6"
      },
      "outputs": [
        {
          "output_type": "stream",
          "name": "stdout",
          "text": [
            "Epoch 0: Train Loss = 0.0212\n",
            "Epoch 10: Train Loss = 0.0218\n",
            "Epoch 20: Train Loss = 0.0219\n",
            "Epoch 30: Train Loss = 0.0213\n",
            "Epoch 40: Train Loss = 0.0213\n",
            "Epoch 50: Train Loss = 0.0215\n",
            "Epoch 60: Train Loss = 0.0220\n",
            "Epoch 70: Train Loss = 0.0225\n",
            "Epoch 80: Train Loss = 0.0229\n",
            "Epoch 90: Train Loss = 0.0230\n",
            "Train Accuracy: 0.8560\n"
          ]
        }
      ],
      "source": [
        "nn2 = NN(X_train, y_train, num_of_layers=3, size_of_layers=[20, 30, 10])"
      ]
    },
    {
      "cell_type": "code",
      "source": [
        "accuracy2_test = nn2.accuracy(X_test, y_test_indices)\n",
        "print(\"Test Accuracy2 :\", accuracy2_test)"
      ],
      "metadata": {
        "id": "ywP5ZHVZKuzF",
        "outputId": "8f6afdef-b661-4e25-ab75-e23719ec3c8f",
        "colab": {
          "base_uri": "https://localhost:8080/"
        }
      },
      "execution_count": 35,
      "outputs": [
        {
          "output_type": "stream",
          "name": "stdout",
          "text": [
            "Test Accuracy2 : 0.8499285714285715\n"
          ]
        }
      ]
    },
    {
      "cell_type": "markdown",
      "metadata": {
        "id": "bGxK-wW9i3R9"
      },
      "source": [
        "### **Build NN with 3 layers=> 2 hidden layers**\n",
        "\n",
        "### **Where # of neurons in first layer > # of neurons in second layer and 1 output layer**"
      ]
    },
    {
      "cell_type": "code",
      "execution_count": 36,
      "metadata": {
        "colab": {
          "base_uri": "https://localhost:8080/"
        },
        "id": "rwXPL8qVbpxe",
        "outputId": "0a25f2fb-b47a-4308-c622-9e96e1f41436"
      },
      "outputs": [
        {
          "output_type": "stream",
          "name": "stdout",
          "text": [
            "Epoch 0: Train Loss = 0.0223\n",
            "Epoch 10: Train Loss = 0.0216\n",
            "Epoch 20: Train Loss = 0.0207\n",
            "Epoch 30: Train Loss = 0.0200\n",
            "Epoch 40: Train Loss = 0.0206\n",
            "Epoch 50: Train Loss = 0.0217\n",
            "Epoch 60: Train Loss = 0.0219\n",
            "Epoch 70: Train Loss = 0.0217\n",
            "Epoch 80: Train Loss = 0.0217\n",
            "Epoch 90: Train Loss = 0.0214\n",
            "Train Accuracy: 0.8620\n"
          ]
        }
      ],
      "source": [
        "nn3 = NN(X_train, y_train, num_of_layers=3, size_of_layers=[30, 20, 10])"
      ]
    },
    {
      "cell_type": "code",
      "source": [
        "accuracy3_test = nn3.accuracy(X_test, y_test_indices)\n",
        "print(\"Test Accuracy3 :\", accuracy3_test)"
      ],
      "metadata": {
        "id": "QHgVGmLgKyOs",
        "outputId": "f8cb7f76-6f92-4eb9-89a0-472701d1b0e4",
        "colab": {
          "base_uri": "https://localhost:8080/"
        }
      },
      "execution_count": 37,
      "outputs": [
        {
          "output_type": "stream",
          "name": "stdout",
          "text": [
            "Test Accuracy3 : 0.8617142857142858\n"
          ]
        }
      ]
    }
  ],
  "metadata": {
    "colab": {
      "provenance": []
    },
    "kernelspec": {
      "display_name": "Python 3",
      "name": "python3"
    },
    "language_info": {
      "codemirror_mode": {
        "name": "ipython",
        "version": 3
      },
      "file_extension": ".py",
      "mimetype": "text/x-python",
      "name": "python",
      "nbconvert_exporter": "python",
      "pygments_lexer": "ipython3",
      "version": "3.9.13"
    }
  },
  "nbformat": 4,
  "nbformat_minor": 0
}